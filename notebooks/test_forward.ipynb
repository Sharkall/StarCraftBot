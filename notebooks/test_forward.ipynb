{
 "cells": [
  {
   "cell_type": "code",
   "execution_count": 3,
   "metadata": {},
   "outputs": [],
   "source": [
    "import torch\n",
    "import torch.nn as nn\n",
    "import torch.nn.functional as F\n",
    "import torch.optim as optim\n",
    "from torch.autograd import Variable\n",
    "\n",
    "import numpy as np\n",
    "from pysc2.lib import actions\n",
    "from pysc2.lib import features"
   ]
  },
  {
   "cell_type": "code",
   "execution_count": 4,
   "metadata": {},
   "outputs": [
    {
     "name": "stdout",
     "output_type": "stream",
     "text": [
      "torch.Size([1, 3, 4, 4])\n",
      "\n",
      "(0 ,0 ,.,.) = \n",
      " -0.2150  0.0074  0.2599 -1.5645\n",
      " -0.1067  1.1107  2.0415 -1.0566\n",
      "  0.1309  0.3576 -1.2154 -1.3518\n",
      "  0.8474 -0.9361 -0.0410 -0.9951\n",
      "\n",
      "(0 ,1 ,.,.) = \n",
      " -0.3717 -0.3056 -1.2615  0.2127\n",
      " -1.0208 -1.3975 -0.9979  0.1991\n",
      " -1.3054  0.7473  0.7318  0.7977\n",
      " -0.1657 -0.4391 -2.1691 -0.0788\n",
      "\n",
      "(0 ,2 ,.,.) = \n",
      "  0.0961 -0.4550 -1.8190  2.1067\n",
      "  0.1949 -0.8842  0.5100 -0.6848\n",
      "  0.9341 -0.7062  0.4968  0.1918\n",
      "  0.4073 -0.0438 -0.0773  0.2134\n",
      "[torch.FloatTensor of size 1x3x4x4]\n",
      "\n"
     ]
    }
   ],
   "source": [
    "a = torch.randn(1, 3, 4, 4)\n",
    "print(a.size())\n",
    "print(a)"
   ]
  },
  {
   "cell_type": "code",
   "execution_count": 5,
   "metadata": {},
   "outputs": [
    {
     "name": "stdout",
     "output_type": "stream",
     "text": [
      "(\n",
      "(0 ,0 ,.,.) = \n",
      " -0.2150  0.0074  0.2599 -1.5645\n",
      " -0.1067  1.1107  2.0415 -1.0566\n",
      "  0.1309  0.3576 -1.2154 -1.3518\n",
      "  0.8474 -0.9361 -0.0410 -0.9951\n",
      "[torch.FloatTensor of size 1x1x4x4]\n",
      ", \n",
      "(0 ,0 ,.,.) = \n",
      " -0.3717 -0.3056 -1.2615  0.2127\n",
      " -1.0208 -1.3975 -0.9979  0.1991\n",
      " -1.3054  0.7473  0.7318  0.7977\n",
      " -0.1657 -0.4391 -2.1691 -0.0788\n",
      "[torch.FloatTensor of size 1x1x4x4]\n",
      ", \n",
      "(0 ,0 ,.,.) = \n",
      "  0.0961 -0.4550 -1.8190  2.1067\n",
      "  0.1949 -0.8842  0.5100 -0.6848\n",
      "  0.9341 -0.7062  0.4968  0.1918\n",
      "  0.4073 -0.0438 -0.0773  0.2134\n",
      "[torch.FloatTensor of size 1x1x4x4]\n",
      ")\n"
     ]
    }
   ],
   "source": [
    "b = torch.chunk(a, 3, dim=1)\n",
    "print(b)"
   ]
  },
  {
   "cell_type": "code",
   "execution_count": 10,
   "metadata": {},
   "outputs": [
    {
     "data": {
      "text/plain": [
       "torch.Size([1, 1, 4, 4])"
      ]
     },
     "execution_count": 10,
     "metadata": {},
     "output_type": "execute_result"
    }
   ],
   "source": [
    "b[0].size()"
   ]
  },
  {
   "cell_type": "code",
   "execution_count": 13,
   "metadata": {},
   "outputs": [
    {
     "name": "stdout",
     "output_type": "stream",
     "text": [
      "\n",
      "    1     0     0     0     0     0     0     0     0     0\n",
      "    0     1     0     0     0     0     0     0     0     0\n",
      "    0     0     1     0     0     0     0     0     0     0\n",
      "    0     0     0     1     0     0     0     0     0     0\n",
      "    0     0     0     0     1     0     0     0     0     0\n",
      "    0     0     0     0     0     1     0     0     0     0\n",
      "    0     0     0     0     0     0     1     0     0     0\n",
      "    0     0     0     0     0     0     0     1     0     0\n",
      "    0     0     0     0     0     0     0     0     1     0\n",
      "    0     0     0     0     0     0     0     0     0     1\n",
      "[torch.LongTensor of size 10x10]\n",
      "\n"
     ]
    }
   ],
   "source": [
    "a = torch.sparse.torch.eye(10).type(torch.LongTensor)\n",
    "print(a)"
   ]
  },
  {
   "cell_type": "code",
   "execution_count": 17,
   "metadata": {
    "collapsed": true
   },
   "outputs": [],
   "source": [
    "def one_hot(labels, C=2):\n",
    "    '''\n",
    "    Reference: https://lirnli.wordpress.com/2017/09/03/one-hot-encoding-in-pytorch/\n",
    "    Parameters\n",
    "    ----------\n",
    "    labels : N, where N is batch size. \n",
    "    dtype: Cuda or not \n",
    "    C : number of classes in labels.\n",
    "    \n",
    "    Returns\n",
    "    -------\n",
    "    target : N x C\n",
    "    '''\n",
    "    out = torch.zeros(labels.size(0), C)\n",
    "    index = labels.view(-1, 1).long()\n",
    "    return out.scatter_(1, index, 1)"
   ]
  },
  {
   "cell_type": "code",
   "execution_count": 19,
   "metadata": {},
   "outputs": [
    {
     "name": "stdout",
     "output_type": "stream",
     "text": [
      "\n",
      " 0  1  0  0\n",
      " 0  0  0  1\n",
      " 1  0  0  0\n",
      " 0  0  1  0\n",
      "[torch.FloatTensor of size 4x4]\n",
      "\n"
     ]
    }
   ],
   "source": [
    "test = torch.Tensor([1, 3, 0, 2])\n",
    "out = one_hot(test, C=4)\n",
    "print(out)"
   ]
  },
  {
   "cell_type": "code",
   "execution_count": null,
   "metadata": {
    "collapsed": true
   },
   "outputs": [],
   "source": []
  }
 ],
 "metadata": {
  "kernelspec": {
   "display_name": "rl",
   "language": "python",
   "name": "rl"
  },
  "language_info": {
   "codemirror_mode": {
    "name": "ipython",
    "version": 3
   },
   "file_extension": ".py",
   "mimetype": "text/x-python",
   "name": "python",
   "nbconvert_exporter": "python",
   "pygments_lexer": "ipython3",
   "version": "3.6.3"
  }
 },
 "nbformat": 4,
 "nbformat_minor": 2
}
