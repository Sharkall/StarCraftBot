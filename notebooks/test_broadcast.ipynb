{
 "cells": [
  {
   "cell_type": "code",
   "execution_count": 1,
   "metadata": {},
   "outputs": [
    {
     "name": "stderr",
     "output_type": "stream",
     "text": [
      "/Users/daidao/anaconda3/envs/rl/lib/python3.6/importlib/_bootstrap.py:219: RuntimeWarning: compiletime version 3.5 of module 'tensorflow.python.framework.fast_tensor_util' does not match runtime version 3.6\n",
      "  return f(*args, **kwds)\n"
     ]
    }
   ],
   "source": [
    "import tensorflow as tf\n",
    "import numpy as np"
   ]
  },
  {
   "cell_type": "code",
   "execution_count": 4,
   "metadata": {},
   "outputs": [
    {
     "name": "stdout",
     "output_type": "stream",
     "text": [
      "(1, 3)\n"
     ]
    }
   ],
   "source": [
    "a = np.array([[1, 2, 3]])\n",
    "print(a.shape)\n",
    "\n",
    "flat = tf.placeholder(dtype=tf.float32, shape=[None, 3])\n",
    "b = tf.tile(tf.expand_dims(tf.expand_dims(flat, 2), 3),\n",
    "                    tf.stack([1, 1, 4, 4]))\n",
    "\n",
    "with tf.Session() as sess:\n",
    "    out = sess.run(b, {flat : a})"
   ]
  },
  {
   "cell_type": "code",
   "execution_count": 5,
   "metadata": {},
   "outputs": [
    {
     "data": {
      "text/plain": [
       "array([[[[ 1.,  1.,  1.,  1.],\n",
       "         [ 1.,  1.,  1.,  1.],\n",
       "         [ 1.,  1.,  1.,  1.],\n",
       "         [ 1.,  1.,  1.,  1.]],\n",
       "\n",
       "        [[ 2.,  2.,  2.,  2.],\n",
       "         [ 2.,  2.,  2.,  2.],\n",
       "         [ 2.,  2.,  2.,  2.],\n",
       "         [ 2.,  2.,  2.,  2.]],\n",
       "\n",
       "        [[ 3.,  3.,  3.,  3.],\n",
       "         [ 3.,  3.,  3.,  3.],\n",
       "         [ 3.,  3.,  3.,  3.],\n",
       "         [ 3.,  3.,  3.,  3.]]]], dtype=float32)"
      ]
     },
     "execution_count": 5,
     "metadata": {},
     "output_type": "execute_result"
    }
   ],
   "source": [
    "out"
   ]
  },
  {
   "cell_type": "code",
   "execution_count": 6,
   "metadata": {},
   "outputs": [
    {
     "data": {
      "text/plain": [
       "(1, 3, 4, 4)"
      ]
     },
     "execution_count": 6,
     "metadata": {},
     "output_type": "execute_result"
    }
   ],
   "source": [
    "out.shape"
   ]
  },
  {
   "cell_type": "code",
   "execution_count": 17,
   "metadata": {
    "collapsed": true
   },
   "outputs": [],
   "source": [
    "import torch\n",
    "import numpy as np"
   ]
  },
  {
   "cell_type": "code",
   "execution_count": 7,
   "metadata": {},
   "outputs": [
    {
     "name": "stdout",
     "output_type": "stream",
     "text": [
      "\n",
      "(0 ,0 ,.,.) = \n",
      "  1  1  1  1\n",
      "  1  1  1  1\n",
      "  1  1  1  1\n",
      "  1  1  1  1\n",
      "\n",
      "(0 ,1 ,.,.) = \n",
      "  2  2  2  2\n",
      "  2  2  2  2\n",
      "  2  2  2  2\n",
      "  2  2  2  2\n",
      "\n",
      "(0 ,2 ,.,.) = \n",
      "  3  3  3  3\n",
      "  3  3  3  3\n",
      "  3  3  3  3\n",
      "  3  3  3  3\n",
      "[torch.FloatTensor of size 1x3x4x4]\n",
      "\n"
     ]
    }
   ],
   "source": [
    "a = torch.Tensor([[1, 2, 3]])\n",
    "b = a.unsqueeze(2).unsqueeze(3).expand(1, 3, 4, 4)\n",
    "print(b)"
   ]
  },
  {
   "cell_type": "code",
   "execution_count": 19,
   "metadata": {},
   "outputs": [
    {
     "data": {
      "text/plain": [
       "ArgumentType(id=0, name='screen', sizes=(0, 0), fn=<function ArgumentType.point.<locals>.<lambda> at 0x111d939d8>)"
      ]
     },
     "execution_count": 19,
     "metadata": {},
     "output_type": "execute_result"
    }
   ],
   "source": [
    "from pysc2.lib import actions\n",
    "\n",
    "actions.TYPES[0]"
   ]
  },
  {
   "cell_type": "code",
   "execution_count": null,
   "metadata": {
    "collapsed": true
   },
   "outputs": [],
   "source": []
  }
 ],
 "metadata": {
  "kernelspec": {
   "display_name": "rl",
   "language": "python",
   "name": "rl"
  },
  "language_info": {
   "codemirror_mode": {
    "name": "ipython",
    "version": 3
   },
   "file_extension": ".py",
   "mimetype": "text/x-python",
   "name": "python",
   "nbconvert_exporter": "python",
   "pygments_lexer": "ipython3",
   "version": "3.6.3"
  }
 },
 "nbformat": 4,
 "nbformat_minor": 2
}
