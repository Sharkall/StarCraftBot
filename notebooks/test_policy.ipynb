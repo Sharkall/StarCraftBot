{
 "cells": [
  {
   "cell_type": "code",
   "execution_count": 20,
   "metadata": {
    "collapsed": true
   },
   "outputs": [],
   "source": [
    "import torch\n",
    "import torch.nn as nn\n",
    "import torch.nn.functional as F\n",
    "import torch.optim as optim\n",
    "from torch.autograd import Variable\n",
    "\n",
    "import numpy as np\n",
    "from pysc2.lib import actions\n",
    "from pysc2.lib import features"
   ]
  },
  {
   "cell_type": "code",
   "execution_count": 18,
   "metadata": {},
   "outputs": [
    {
     "name": "stdout",
     "output_type": "stream",
     "text": [
      "[{'params': [Parameter containing:\n",
      "-0.4884 -0.0911\n",
      " 0.4367 -0.5156\n",
      "[torch.FloatTensor of size 2x2]\n",
      ", Parameter containing:\n",
      "1.00000e-02 *\n",
      "  4.9617\n",
      " -8.2100\n",
      "[torch.FloatTensor of size 2]\n",
      ", Parameter containing:\n",
      " 0.6534  0.3353\n",
      "-0.2220 -0.2895\n",
      " 0.5467  0.4173\n",
      "[torch.FloatTensor of size 3x2]\n",
      ", Parameter containing:\n",
      "-0.3243\n",
      "-0.0137\n",
      " 0.4840\n",
      "[torch.FloatTensor of size 3]\n",
      "], 'lr': 0.001, 'betas': (0.9, 0.999), 'eps': 1e-08, 'weight_decay': 0, 'amsgrad': False}]\n"
     ]
    }
   ],
   "source": [
    "class testNet(nn.Module):\n",
    "    def __init__(self):\n",
    "        super(testNet, self).__init__()\n",
    "        \n",
    "        self.l1 = nn.Linear(2, 2)\n",
    "        self.l2 = nn.Linear(2, 3)\n",
    "        \n",
    "test = testNet()\n",
    "optimizer = optim.Adam(test.parameters())\n",
    "print(optimizer.param_groups)"
   ]
  },
  {
   "cell_type": "code",
   "execution_count": 16,
   "metadata": {
    "collapsed": true,
    "scrolled": false
   },
   "outputs": [],
   "source": [
    "nets = [nn.Sequential(nn.Linear(2, 2), nn.Linear(2, 2)), nn.Sequential(nn.Linear(2, 2), nn.Linear(2, 2))]\n",
    "all_params = [{'params' : n.parameters()} for n in nets]\n",
    "\n",
    "optimizer = optim.Adam(all_params)"
   ]
  },
  {
   "cell_type": "code",
   "execution_count": 17,
   "metadata": {},
   "outputs": [
    {
     "data": {
      "text/plain": [
       "[{'amsgrad': False,\n",
       "  'betas': (0.9, 0.999),\n",
       "  'eps': 1e-08,\n",
       "  'lr': 0.001,\n",
       "  'params': [Parameter containing:\n",
       "   -0.3856  0.0466\n",
       "   -0.1992  0.2558\n",
       "   [torch.FloatTensor of size 2x2], Parameter containing:\n",
       "   -0.0915\n",
       "    0.4582\n",
       "   [torch.FloatTensor of size 2], Parameter containing:\n",
       "   -0.3532 -0.2139\n",
       "    0.3529 -0.2247\n",
       "   [torch.FloatTensor of size 2x2], Parameter containing:\n",
       "   -0.0959\n",
       "   -0.5458\n",
       "   [torch.FloatTensor of size 2]],\n",
       "  'weight_decay': 0},\n",
       " {'amsgrad': False,\n",
       "  'betas': (0.9, 0.999),\n",
       "  'eps': 1e-08,\n",
       "  'lr': 0.001,\n",
       "  'params': [Parameter containing:\n",
       "    0.6503 -0.4008\n",
       "    0.2245  0.1574\n",
       "   [torch.FloatTensor of size 2x2], Parameter containing:\n",
       "    0.4737\n",
       "   -0.5183\n",
       "   [torch.FloatTensor of size 2], Parameter containing:\n",
       "   -0.1309  0.1934\n",
       "   -0.7023  0.3269\n",
       "   [torch.FloatTensor of size 2x2], Parameter containing:\n",
       "    0.3621\n",
       "   -0.0591\n",
       "   [torch.FloatTensor of size 2]],\n",
       "  'weight_decay': 0}]"
      ]
     },
     "execution_count": 17,
     "metadata": {},
     "output_type": "execute_result"
    }
   ],
   "source": [
    "optimizer.param_groups"
   ]
  },
  {
   "cell_type": "code",
   "execution_count": 19,
   "metadata": {},
   "outputs": [
    {
     "name": "stdout",
     "output_type": "stream",
     "text": [
      "0\n",
      "scalar\n",
      "1\n",
      "category 2 4\n",
      "2\n",
      "category 1 2\n",
      "3\n",
      "category 1 2\n",
      "4\n",
      "category 4 17\n",
      "5\n",
      "category 2 5\n",
      "6\n",
      "category 11 1850\n",
      "7\n",
      "category 1 2\n",
      "8\n",
      "scalar\n",
      "9\n",
      "scalar\n",
      "10\n",
      "scalar\n",
      "11\n",
      "scalar\n",
      "12\n",
      "scalar\n",
      "13\n",
      "scalar\n",
      "14\n",
      "scalar\n",
      "15\n",
      "scalar\n",
      "16\n",
      "category 4 16\n"
     ]
    }
   ],
   "source": [
    "out_list = []\n",
    "spec = features.SCREEN_FEATURES\n",
    "\n",
    "for s in spec:\n",
    "    # f = feats[s.index]\n",
    "    print(s.index)\n",
    "    \n",
    "    if s.type == features.FeatureType.CATEGORICAL:\n",
    "        dims = np.round(np.log2(s.scale)).astype(np.int32).item()\n",
    "        dims = max(dims, 1)\n",
    "        print('category', dims, s.scale)\n",
    "        # indices = tf.one_hot(tf.to_int32(tf.squeeze(f, -1)), s.scale)\n",
    "        # out = embed_fn(indices, dims)\n",
    "    elif s.type == features.FeatureType.SCALAR:\n",
    "        print('scalar')\n",
    "        \n",
    "        # out = self.log_transform(f, s.scale)\n",
    "    else:\n",
    "        raise NotImplementedError\n",
    "    # out_list.append(out)"
   ]
  },
  {
   "cell_type": "code",
   "execution_count": 21,
   "metadata": {},
   "outputs": [
    {
     "name": "stdout",
     "output_type": "stream",
     "text": [
      "torch.Size([1, 3, 32, 32])\n"
     ]
    }
   ],
   "source": [
    "conv1 = nn.Conv2d(in_channels=1, out_channels=3, kernel_size=1, stride=1)\n",
    "test_input = Variable(torch.randn(1, 1, 32, 32))\n",
    "test_output = conv1(test_input)\n",
    "print(test_output.size())"
   ]
  },
  {
   "cell_type": "code",
   "execution_count": null,
   "metadata": {
    "collapsed": true
   },
   "outputs": [],
   "source": []
  }
 ],
 "metadata": {
  "kernelspec": {
   "display_name": "rl",
   "language": "python",
   "name": "rl"
  },
  "language_info": {
   "codemirror_mode": {
    "name": "ipython",
    "version": 3
   },
   "file_extension": ".py",
   "mimetype": "text/x-python",
   "name": "python",
   "nbconvert_exporter": "python",
   "pygments_lexer": "ipython3",
   "version": "3.6.3"
  }
 },
 "nbformat": 4,
 "nbformat_minor": 2
}
