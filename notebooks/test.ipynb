{
 "cells": [
  {
   "cell_type": "markdown",
   "metadata": {},
   "source": [
    "### Test compute log probabilities"
   ]
  },
  {
   "cell_type": "code",
   "execution_count": 1,
   "metadata": {
    "collapsed": true
   },
   "outputs": [],
   "source": [
    "import torch \n",
    "import torch.nn as nn \n",
    "from torch.autograd import Variable\n",
    "import torch.functional as F\n",
    "\n",
    "from collections import namedtuple\n",
    "import numpy as np\n",
    "\n",
    "\n",
    "def make_var_id_actions(actions):\n",
    "    n_id, arg_ids = actions \n",
    "    args_var = {}\n",
    "    fn_id_var = Variable(torch.LongTensor(n_id))\n",
    "    for k, v in arg_ids.items():\n",
    "        args_var[k] = Variable(torch.LongTensor(v))\n",
    "    return fn_id_var, args_var\n",
    "\n",
    "\n",
    "def make_var_probs_actions(actions):\n",
    "    n_id, arg_ids = actions \n",
    "    args_var = {}\n",
    "    fn_id_var = Variable(torch.FloatTensor(n_id))\n",
    "    for k, v in arg_ids.items():\n",
    "        args_var[k] = Variable(torch.FloatTensor(v))\n",
    "    return fn_id_var, args_var\n",
    "\n",
    "\n",
    "def mask_unavailable_actions(available_actions, fn_pi):\n",
    "    fn_pi = fn_pi * available_actions\n",
    "    fn_pi = fn_pi / fn_pi.sum(1, keepdim=True)\n",
    "    return fn_pi\n",
    "\n",
    "\n",
    "def compute_policy_log_probs(available_actions, policy, actions_var):\n",
    "    def logclip(x):\n",
    "        return torch.log(torch.clamp(x, 1e-12, 1.0))\n",
    "\n",
    "    def compute_log_probs(probs, labels):\n",
    "        new_labels = labels.clone()\n",
    "        new_labels[new_labels < 0] = 0\n",
    "        selected_probs = probs.gather(1, new_labels.unsqueeze(1))\n",
    "        out = logclip(selected_probs)\n",
    "        # Log of 0 will be 0\n",
    "        out[selected_probs == 0] = 0\n",
    "        return out.view(-1)\n",
    "\n",
    "    fn_id, arg_ids = actions_var\n",
    "    fn_pi, arg_pis = policy\n",
    "    \n",
    "    fn_pi = mask_unavailable_actions(available_actions, fn_pi)\n",
    "    fn_log_prob = compute_log_probs(fn_pi, fn_id)\n",
    "\n",
    "    log_prob = fn_log_prob\n",
    "    for arg_type in arg_ids.keys():\n",
    "        arg_id = arg_ids[arg_type]\n",
    "        arg_pi = arg_pis[arg_type]\n",
    "        arg_log_prob = compute_log_probs(arg_pi, arg_id)\n",
    "\n",
    "        arg_id_masked = arg_id.clone()\n",
    "        arg_id_masked[arg_id_masked != -1] = 1\n",
    "        arg_id_masked[arg_id_masked == -1] = 0\n",
    "        arg_log_prob = arg_log_prob * arg_id_masked.float()\n",
    "        log_prob = log_prob + arg_log_prob\n",
    "    return log_prob"
   ]
  },
  {
   "cell_type": "code",
   "execution_count": 2,
   "metadata": {
    "scrolled": false
   },
   "outputs": [],
   "source": [
    "TestArgType = namedtuple('ArgType', ['name'])\n",
    "arg_type = TestArgType('arg')\n",
    "A = np.array\n",
    "\n",
    "available_actions = A([[1, 0, 1],\n",
    "                           [1, 0, 0],\n",
    "                           [1, 1, 1]], dtype=np.float32)\n",
    "\n",
    "fn_pi = A([[0.2, 0.0, 0.8],\n",
    "           [1.0, 0.0, 0.0],\n",
    "           [0.2, 0.7, 0.1]], dtype=np.float32)\n",
    "\n",
    "fn_ids = A([2, 0, 1], dtype=np.int32)\n",
    "\n",
    "arg_pi = {arg_type: A([[0.0, 1.0],\n",
    "                       [0.0, 1.0],\n",
    "                       [0.5, 0.5]], dtype=np.float32)}\n",
    "\n",
    "arg_ids = {arg_type: A([0, 1, -1], dtype=np.int32)}\n",
    "\n",
    "policy_var = make_var_probs_actions((fn_pi, arg_pi))\n",
    "actions_var = make_var_id_actions((fn_ids, arg_ids))\n",
    "available_actions = Variable(torch.Tensor(available_actions))\n",
    "\n",
    "log_probs = compute_policy_log_probs(\n",
    "  available_actions, policy_var, actions_var\n",
    ")"
   ]
  },
  {
   "cell_type": "code",
   "execution_count": 5,
   "metadata": {},
   "outputs": [
    {
     "name": "stdout",
     "output_type": "stream",
     "text": [
      "Variable containing:\n",
      "-0.2231\n",
      " 0.0000\n",
      "-0.3567\n",
      "[torch.FloatTensor of size (3,)]\n",
      "\n"
     ]
    }
   ],
   "source": [
    "print(log_probs)"
   ]
  },
  {
   "cell_type": "markdown",
   "metadata": {},
   "source": [
    "### Test in Tensorflow"
   ]
  },
  {
   "cell_type": "code",
   "execution_count": 4,
   "metadata": {},
   "outputs": [
    {
     "name": "stderr",
     "output_type": "stream",
     "text": [
      "/Users/daidao/anaconda3/envs/rl/lib/python3.6/importlib/_bootstrap.py:219: RuntimeWarning: compiletime version 3.5 of module 'tensorflow.python.framework.fast_tensor_util' does not match runtime version 3.6\n",
      "  return f(*args, **kwds)\n"
     ]
    }
   ],
   "source": [
    "import tensorflow as tf\n",
    "from collections import namedtuple\n",
    "import numpy as np\n",
    "\n",
    "\n",
    "def safe_log(x):\n",
    "    return tf.where(tf.equal(x, 0),\n",
    "                  tf.zeros_like(x),\n",
    "                  tf.log(tf.maximum(1e-12, x)))\n",
    "\n",
    "def mask_unavailable_actions(available_actions, fn_pi):\n",
    "    fn_pi *= available_actions\n",
    "    fn_pi /= tf.reduce_sum(fn_pi, axis=1, keep_dims=True)\n",
    "    return fn_pi\n",
    "\n",
    "def compute_policy_log_probs(available_actions, policy, actions):\n",
    "    def compute_log_probs(probs, labels):\n",
    "         # Select arbitrary element for unused arguments (log probs will be masked)\n",
    "        labels = tf.maximum(labels, 0)\n",
    "        indices = tf.stack([tf.range(tf.shape(labels)[0]), labels], axis=1)\n",
    "        return safe_log(tf.gather_nd(probs, indices)) # TODO tf.log should suffice\n",
    "\n",
    "    fn_id, arg_ids = actions\n",
    "    fn_pi, arg_pis = policy\n",
    "    fn_pi = mask_unavailable_actions(available_actions, fn_pi) # TODO: this should be unneccessary\n",
    "    fn_log_prob = compute_log_probs(fn_pi, fn_id)\n",
    "\n",
    "    log_prob = fn_log_prob\n",
    "    for arg_type in arg_ids.keys():\n",
    "        arg_id = arg_ids[arg_type]\n",
    "        arg_pi = arg_pis[arg_type]\n",
    "        arg_log_prob = compute_log_probs(arg_pi, arg_id)\n",
    "        arg_log_prob_masked = arg_log_prob * tf.to_float(tf.not_equal(arg_id, -1))\n",
    "        log_prob += arg_log_prob_masked\n",
    "\n",
    "    return log_prob, fn_log_prob, arg_log_prob, arg_log_prob_masked"
   ]
  },
  {
   "cell_type": "code",
   "execution_count": 5,
   "metadata": {},
   "outputs": [
    {
     "name": "stdout",
     "output_type": "stream",
     "text": [
      "[-0.22314353  0.         -0.35667497]\n",
      "[-0.22314353  0.         -0.35667497]\n",
      "[ 0.          0.         -0.69314718]\n",
      "[ 0.  0. -0.]\n"
     ]
    }
   ],
   "source": [
    "TestArgType = namedtuple('ArgType', ['name'])\n",
    "arg_type = TestArgType('arg')\n",
    "A = np.array\n",
    "\n",
    "available_actions = A([[1, 0, 1],\n",
    "                           [1, 0, 0],\n",
    "                           [1, 1, 1]], dtype=np.float32)\n",
    "\n",
    "fn_pi = A([[0.2, 0.0, 0.8],\n",
    "           [1.0, 0.0, 0.0],\n",
    "           [0.2, 0.7, 0.1]], dtype=np.float32)\n",
    "\n",
    "fn_ids = A([2, 0, 1], dtype=np.int32)\n",
    "\n",
    "arg_pi = {arg_type: A([[0.0, 1.0],\n",
    "                       [0.0, 1.0],\n",
    "                       [0.5, 0.5]], dtype=np.float32)}\n",
    "\n",
    "arg_ids = {arg_type: A([0, 1, -1], dtype=np.int32)}\n",
    "\n",
    "log_probs, fn_log_probs, arg_log_probs, arg_log_probs_masked = compute_policy_log_probs(\n",
    "      available_actions, (fn_pi, arg_pi), (fn_ids, arg_ids))\n",
    "\n",
    "with tf.Session() as sess:\n",
    "    log_probs_out, fn_log_probs_out, arg_log_probs_out, arg_log_probs_masked_out = sess.run([log_probs, fn_log_probs, \\\n",
    "                                                                    arg_log_probs, arg_log_probs_masked])\n",
    "    \n",
    "print(log_probs_out)\n",
    "print(fn_log_probs_out)\n",
    "print(arg_log_probs_out)\n",
    "print(arg_log_probs_masked_out)"
   ]
  },
  {
   "cell_type": "markdown",
   "metadata": {},
   "source": [
    "### Test Compute Entropy"
   ]
  },
  {
   "cell_type": "code",
   "execution_count": 7,
   "metadata": {
    "collapsed": true
   },
   "outputs": [],
   "source": [
    "import torch \n",
    "import torch.nn as nn \n",
    "from torch.autograd import Variable\n",
    "import torch.functional as F\n",
    "\n",
    "from collections import namedtuple\n",
    "import numpy as np\n",
    "\n",
    "\n",
    "def make_var_id_actions(actions):\n",
    "    n_id, arg_ids = actions \n",
    "    args_var = {}\n",
    "    fn_id_var = Variable(torch.LongTensor(n_id))\n",
    "    for k, v in arg_ids.items():\n",
    "        args_var[k] = Variable(torch.LongTensor(v))\n",
    "    return fn_id_var, args_var\n",
    "\n",
    "\n",
    "def make_var_probs_actions(actions):\n",
    "    n_id, arg_ids = actions \n",
    "    args_var = {}\n",
    "    fn_id_var = Variable(torch.FloatTensor(n_id))\n",
    "    for k, v in arg_ids.items():\n",
    "        args_var[k] = Variable(torch.FloatTensor(v))\n",
    "    return fn_id_var, args_var\n",
    "\n",
    "\n",
    "def mask_unavailable_actions(available_actions, fn_pi):\n",
    "    fn_pi = fn_pi * available_actions\n",
    "    fn_pi = fn_pi / fn_pi.sum(1, keepdim=True)\n",
    "    return fn_pi\n",
    "\n",
    "\n",
    "def compute_policy_entropy(available_actions, policy, actions_var):\n",
    "    def logclip(x):\n",
    "        return torch.log(torch.clamp(x, 1e-12, 1.0))\n",
    "\n",
    "    def compute_entropy(probs):\n",
    "        return -(logclip(probs) * probs).sum(-1)\n",
    "\n",
    "    _, arg_ids = actions_var    \n",
    "    fn_pi, arg_pis = policy\n",
    "    fn_pi = mask_unavailable_actions(available_actions, fn_pi)\n",
    "\n",
    "    entropy = compute_entropy(fn_pi).mean()\n",
    "    for arg_type in arg_ids.keys():\n",
    "        arg_id = arg_ids[arg_type]\n",
    "        arg_pi = arg_pis[arg_type]\n",
    "\n",
    "        batch_mask = arg_id.clone()\n",
    "        batch_mask[batch_mask != -1] = 1\n",
    "        batch_mask[batch_mask == -1] = 0\n",
    "        # Reference: https://discuss.pytorch.org/t/how-to-use-condition-flow/644/4\n",
    "        if (batch_mask == 0).all():\n",
    "            arg_entropy = (compute_entropy(arg_pi) * 0.0).sum()\n",
    "        else:\n",
    "            arg_entropy = (compute_entropy(arg_pi) * batch_mask.float()).sum() / batch_mask.float().sum()\n",
    "        entropy = entropy + arg_entropy\n",
    "    return entropy"
   ]
  },
  {
   "cell_type": "code",
   "execution_count": 8,
   "metadata": {
    "collapsed": true
   },
   "outputs": [],
   "source": [
    "available_actions = A([[1, 0, 1],\n",
    "                           [1, 0, 0],\n",
    "                           [1, 1, 1]], dtype=np.float32)\n",
    "\n",
    "fn_pi = A([[0.2, 0.0, 0.8],\n",
    "           [1.0, 0.0, 0.0],\n",
    "           [0.2, 0.7, 0.1]], dtype=np.float32)\n",
    "\n",
    "fn_ids = A([2, 0, 1], dtype=np.int32)\n",
    "\n",
    "arg_pi = {arg_type: A([[0.8, 0.2],\n",
    "                       [0.0, 1.0],\n",
    "                       [0.5, 0.5]], dtype=np.float32)}\n",
    "\n",
    "arg_ids = {arg_type: A([0, 1, -1], dtype=np.int32)}\n",
    "\n",
    "policy_var = make_var_probs_actions((fn_pi, arg_pi))\n",
    "actions_var = make_var_id_actions((fn_ids, arg_ids))\n",
    "available_actions = Variable(torch.Tensor(available_actions))\n",
    "\n",
    "entropy = compute_policy_entropy(\n",
    "      available_actions, policy_var, actions_var\n",
    "    )"
   ]
  },
  {
   "cell_type": "code",
   "execution_count": 9,
   "metadata": {},
   "outputs": [
    {
     "name": "stdout",
     "output_type": "stream",
     "text": [
      "Variable containing:\n",
      " 0.6843\n",
      "[torch.FloatTensor of size (1,)]\n",
      "\n"
     ]
    }
   ],
   "source": [
    "print(entropy)"
   ]
  },
  {
   "cell_type": "code",
   "execution_count": 11,
   "metadata": {},
   "outputs": [
    {
     "name": "stdout",
     "output_type": "stream",
     "text": [
      "0.6842748916666668\n"
     ]
    }
   ],
   "source": [
    "expected_entropy = (0.50040245 + 0.80181855) / 3.0 + (0.50040245) / 2\n",
    "print(expected_entropy)"
   ]
  },
  {
   "cell_type": "code",
   "execution_count": null,
   "metadata": {
    "collapsed": true
   },
   "outputs": [],
   "source": []
  }
 ],
 "metadata": {
  "kernelspec": {
   "display_name": "rl",
   "language": "python",
   "name": "rl"
  },
  "language_info": {
   "codemirror_mode": {
    "name": "ipython",
    "version": 3
   },
   "file_extension": ".py",
   "mimetype": "text/x-python",
   "name": "python",
   "nbconvert_exporter": "python",
   "pygments_lexer": "ipython3",
   "version": "3.6.3"
  }
 },
 "nbformat": 4,
 "nbformat_minor": 2
}
